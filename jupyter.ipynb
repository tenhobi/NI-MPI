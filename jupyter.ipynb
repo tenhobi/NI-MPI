{
 "cells": [
  {
   "cell_type": "markdown",
   "metadata": {},
   "source": [
    "Vypracoval Jan Bittner\n",
    "\n",
    "# Kód"
   ]
  },
  {
   "cell_type": "code",
   "execution_count": 215,
   "metadata": {},
   "outputs": [],
   "source": [
    "import numpy as np"
   ]
  },
  {
   "cell_type": "code",
   "execution_count": 272,
   "metadata": {},
   "outputs": [],
   "source": [
    "class Solver:\n",
    "    def __init__(self, matrix, vector, initialVector, precision, gamma):\n",
    "        self.initialVector = initialVector\n",
    "        self.precision = precision\n",
    "        self.matrix = matrix\n",
    "        self.bVector = vector\n",
    "        self.gamma = gamma\n",
    "        \n",
    "        # lower triangular part\n",
    "        self.l = np.tril(matrix, -1)\n",
    "\n",
    "        # upper triangular part\n",
    "        self.u = np.triu(matrix, 1)\n",
    "\n",
    "        # diagonal component\n",
    "        self.d = np.diag(np.diag(matrix))\n",
    "        \n",
    "        # init Q - must be set by subclases\n",
    "        self.q = None\n",
    "        self.qinv = None\n",
    "        \n",
    "    def solve(self):\n",
    "        \"\"\"Starts to compute iterations and then returns count of iterations and result.\"\"\"\n",
    "        iterationCount = 0\n",
    "        x = None\n",
    "        \n",
    "        if self.canConverge():\n",
    "            x = self.initialVector\n",
    "            \n",
    "            while self.isNotPreciseEnough(x):\n",
    "                iterationCount = iterationCount + 1\n",
    "                x = self.doIteration(x)\n",
    "\n",
    "        return iterationCount, x\n",
    "\n",
    "    def canConverge(self):\n",
    "        \"\"\"Can converge if the value of spectral radius is less than 1.\"\"\"\n",
    "        e = np.identity(self.matrix.shape[0], dtype = np.float64)\n",
    "        return self.getSpectralRadius(e - self.qinv @ self.matrix) < 1\n",
    "    \n",
    "    def isNotPreciseEnough(self, iteration):\n",
    "        \"\"\"Chech whether precision is not already sufficient.\"\"\"\n",
    "        return (np.linalg.norm(self.matrix @ iteration - self.bVector) / np.linalg.norm(self.bVector)) > self.precision\n",
    "\n",
    "    def doIteration(self, lastIteration):\n",
    "        \"\"\"Does next iteration.\"\"\"\n",
    "        return self.qinv @ (self.q - self.matrix) @ lastIteration + self.qinv @ self.bVector\n",
    "    \n",
    "    def getSpectralRadius(self, matrix):\n",
    "        \"\"\"Returns max absolute eigenvalue of matrix, aka spectral radius.\"\"\"\n",
    "        return max(abs(np.linalg.eigvals(matrix)))\n",
    "\n",
    "\n",
    "class JacobiSolver(Solver):\n",
    "    def __init__(self, matrix, vector, initialVector, precision, gamma):\n",
    "        super().__init__(matrix, vector, initialVector, precision, gamma)\n",
    "        self.q = self.d\n",
    "        self.qinv = np.linalg.inv(self.q)\n",
    "\n",
    "\n",
    "class GaussSeidelSolver(Solver):\n",
    "    def __init__(self, matrix, vector, initialVector, precision, gamma, omega = 1):\n",
    "        super().__init__(matrix, vector, initialVector, precision, gamma)\n",
    "        self.omega = omega\n",
    "        self.q = (1 / omega) * self.d + self.l\n",
    "        self.qinv = np.linalg.inv(self.q)"
   ]
  },
  {
   "cell_type": "code",
   "execution_count": 328,
   "metadata": {},
   "outputs": [
    {
     "data": {
      "text/plain": [
       "(33,\n",
       " array([[0.9999987 ],\n",
       "        [0.99999898],\n",
       "        [1.0000001 ],\n",
       "        [1.00000059],\n",
       "        [1.00000045],\n",
       "        [1.00000026],\n",
       "        [1.00000023],\n",
       "        [1.00000027],\n",
       "        [1.00000026],\n",
       "        [1.00000018],\n",
       "        [1.0000001 ],\n",
       "        [1.00000004],\n",
       "        [1.00000001],\n",
       "        [1.        ],\n",
       "        [0.99999999],\n",
       "        [0.99999998],\n",
       "        [0.99999998],\n",
       "        [0.99999996],\n",
       "        [1.        ],\n",
       "        [0.99999996]]))"
      ]
     },
     "execution_count": 328,
     "metadata": {},
     "output_type": "execute_result"
    }
   ],
   "source": [
    "### ----- config\n",
    "\n",
    "# parameters\n",
    "gamma = 3\n",
    "omega = 1\n",
    "precision = 10**-6\n",
    "\n",
    "# matrix\n",
    "matrix = np.zeros((20, 20), dtype = np.float64)\n",
    "np.fill_diagonal(matrix, gamma)\n",
    "np.fill_diagonal(matrix[:, 1:], -1) # upper part\n",
    "np.fill_diagonal(matrix[1:, :], -1) # lower part\n",
    "\n",
    "# vector b\n",
    "bVector = np.full((20, 1), gamma - 2, dtype = np.float64)\n",
    "bVector[0] = bVector[0] + 1\n",
    "bVector[-1] = bVector[-1] + 1\n",
    "\n",
    "# initial vector\n",
    "initialVector = np.zeros(bVector.shape, dtype = np.float64)\n",
    "\n",
    "### ----- solver\n",
    "\n",
    "# use one of these:\n",
    "#solver = JacobiSolver(matrix, bVector, initialVector, precision, gamma)\n",
    "solver = GaussSeidelSolver(matrix, bVector, initialVector, precision, gamma, omega)\n",
    "\n",
    "solver.solve()"
   ]
  },
  {
   "cell_type": "markdown",
   "metadata": {},
   "source": [
    "# Komentář\n",
    "\n",
    "\n",
    "Obě metody a jejich varianty jsou implementovány dle přednášek. Iterační funkce je identická pro obě metody až na jinou matici Q.\n",
    "\n",
    "Jednotlivé metody postupně konvergují k výsledku pro gamma = 3 a 2, avšak pro gamma = 1 ani jedna metoda nekonverguje. To je způsobeno tím, že jejich spektrální poloměr (maximum absolutní hodnoty vlastních čísel) matice E - Q^-1 * A je větší než 1, zatímco metoda konverguje právě tehdy když spektrální poloměr je menší než 1.\n",
    "\n",
    "Zkoušel jsem změnu parametru gama pro obě metody, kde s navyšující hodnotou se pro obě metody výrazně snižoval počet potřebných iterací. Následně jsem sledoval vliv parametru omega u metody GS, kde metoda pro hodnotu 2 a výše nekonverguje, což je s předpokladem s tvrzením 27.4 z přednášky. Tento parametr se používá pro urychlení konvergence a nejnižší počet iterací potřebných k dosažení požadované přesnosti byl naměřen okolo hodnoty 1,2."
   ]
  }
 ],
 "metadata": {
  "kernelspec": {
   "display_name": "Python 3",
   "language": "python",
   "name": "python3"
  },
  "language_info": {
   "codemirror_mode": {
    "name": "ipython",
    "version": 3
   },
   "file_extension": ".py",
   "mimetype": "text/x-python",
   "name": "python",
   "nbconvert_exporter": "python",
   "pygments_lexer": "ipython3",
   "version": "3.8.5"
  }
 },
 "nbformat": 4,
 "nbformat_minor": 4
}
